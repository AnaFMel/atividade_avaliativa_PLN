{
  "nbformat": 4,
  "nbformat_minor": 0,
  "metadata": {
    "colab": {
      "provenance": []
    },
    "kernelspec": {
      "name": "python3",
      "display_name": "Python 3"
    },
    "language_info": {
      "name": "python"
    }
  },
  "cells": [
    {
      "cell_type": "markdown",
      "source": [
        "##**Atividade Avaliativa - Processamento de Linguagem Natural**\n",
        "### **Equipe:** Ana Clara, Bruno, Igor e Pedro Cruz\n"
      ],
      "metadata": {
        "id": "tb_xoKytbTNZ"
      }
    },
    {
      "cell_type": "markdown",
      "source": [
        "# **Descrição e motivação do problema:**\n",
        "\n",
        "A disseminação de **fake news** tem acontecido com cada vez mais frequência e possui impacto significativo na sociedade, contribuindo para a desinformação, polarização social e decisões equivocadas. A motivação para desenvolver um algoritmo de identificação de notícias falsas está em promover uma sociedade mais informada, fornecendo as pessoas uma ferramenta automatizada para avaliar a veracidade de informações rapidamente. Isso pode ajudar a mitigar os efeitos negativos da desinformação, capacitando as pessoas a tomarem decisões mais conscientes e baseadas em fatos confiáveis."
      ],
      "metadata": {
        "id": "N35uvHTFb_vY"
      }
    },
    {
      "cell_type": "markdown",
      "source": [
        "# **Descrição da base de dados (e do processo de obtenção dos dados, se for o caso):**\n",
        "\n",
        "A base de dados que decidimos utilizar é a [Fake.Br Corpus](https://github.com/roneysco/Fake.br-Corpus). Ela fornece pares de notícias verdadeiras e falsas em português.\n",
        "\n",
        "Mais especificamente, iremos utilizar os dados contidos na pasta \"size_normalized_texts\", que contém versões truncadas dos textos, onde em cada par verdadeiro-falso o texto mais longo é truncado (em número de palavras) para o tamanho do texto mais curto. Esta versão do corpus pode ser útil para evitar inclinações incorretas em experimentos de aprendizado de máquina."
      ],
      "metadata": {
        "id": "FVOFfOvPdNuH"
      }
    },
    {
      "cell_type": "markdown",
      "source": [
        "# **Objetivo de negócio ou científico associado ao problema:**\n",
        "\n",
        "\n",
        "O objetivo científico deste projeto é desenvolver e validar um algoritmo capaz de identificar fake news de algum assunto específico com precisão. Já o objetivo de negócio é fornecer uma solução automatizada, como um chatbot, que permita organizações, jornalistas e usuários individuais verificarem rapidamente a veracidade de informações, reduzindo os impactos da desinformação em escala e promovendo a confiança em fontes confiáveis."
      ],
      "metadata": {
        "id": "XWYJXJcxdWII"
      }
    },
    {
      "cell_type": "markdown",
      "source": [
        "# **Etapa de limpeza e pré-processamento:**"
      ],
      "metadata": {
        "id": "o5gSBds0dlB2"
      }
    },
    {
      "cell_type": "markdown",
      "source": [
        "Unzipando os arquivos baixados"
      ],
      "metadata": {
        "id": "o2QmvS_-pSr4"
      }
    },
    {
      "cell_type": "code",
      "source": [
        " import zipfile\n",
        "\n",
        " caminho_zip = 'Fake.br-Corpus-master.zip'\n",
        "\n",
        " with zipfile.ZipFile(caminho_zip, 'r') as zip_ref:\n",
        "  zip_ref.extractall('arquivos')"
      ],
      "metadata": {
        "id": "l5Lnbxo6oPjj"
      },
      "execution_count": 2,
      "outputs": []
    },
    {
      "cell_type": "markdown",
      "source": [
        "Obtendos os dados da pasta size_normalized_texts, como comentado anteriormente, e colocando tudo em um dataframe, inserindo o label 0 ou 1 para distinguirmos entre verdadeiro ou falso."
      ],
      "metadata": {
        "id": "8sac4bHEqEwf"
      }
    },
    {
      "cell_type": "code",
      "source": [
        "import os\n",
        "import pandas as pd\n",
        "\n",
        "fake_dir = 'arquivos/Fake.br-Corpus-master/size_normalized_texts/fake'\n",
        "true_dir = 'arquivos/Fake.br-Corpus-master/size_normalized_texts/true'\n",
        "\n",
        "def load_texts(directory, label):\n",
        "    data = []\n",
        "    for file in os.listdir(directory):\n",
        "        with open(os.path.join(directory, file), 'r', encoding='utf-8') as f:\n",
        "            data.append({'text': f.read(), 'label': label})\n",
        "    return data\n",
        "\n",
        "fake_data = load_texts(fake_dir, 0)  # 0 para \"falso\"\n",
        "true_data = load_texts(true_dir, 1)  # 1 para \"verdadeiro\"\n",
        "\n",
        "df = pd.DataFrame(fake_data + true_data)\n",
        "\n",
        "print(df.head())"
      ],
      "metadata": {
        "colab": {
          "base_uri": "https://localhost:8080/"
        },
        "id": "P2-jiWnzpW2M",
        "outputId": "cd5d3609-7085-49bd-f417-4ae731fae836"
      },
      "execution_count": 3,
      "outputs": [
        {
          "output_type": "stream",
          "name": "stdout",
          "text": [
            "                                                text  label\n",
            "0  Ele não tem medo de altura! \"Chuck Norris\" da ...      0\n",
            "1  Jandira \"intitulou\" Aécio de traficante. Aécio...      0\n",
            "2  Senador Bauer: \"Quem quiser ver uma grande obr...      0\n",
            "3  Renan afronta STF e se recusa a deixar a presi...      0\n",
            "4  Ministro da Fazenda promete abrir a \"caixa pre...      0\n"
          ]
        }
      ]
    },
    {
      "cell_type": "markdown",
      "source": [
        "Exploração"
      ],
      "metadata": {
        "id": "HuRnOUTYsbU-"
      }
    },
    {
      "cell_type": "code",
      "source": [
        "df.shape"
      ],
      "metadata": {
        "colab": {
          "base_uri": "https://localhost:8080/"
        },
        "id": "S8u1tlSzseSv",
        "outputId": "d86ef4d8-3415-4eb8-cdc9-4ca53038d122"
      },
      "execution_count": 4,
      "outputs": [
        {
          "output_type": "execute_result",
          "data": {
            "text/plain": [
              "(7200, 2)"
            ]
          },
          "metadata": {},
          "execution_count": 4
        }
      ]
    },
    {
      "cell_type": "markdown",
      "source": [
        "Verificando se temos algum nulo"
      ],
      "metadata": {
        "id": "ju7rVo1Asp7Z"
      }
    },
    {
      "cell_type": "code",
      "source": [
        "df.info()"
      ],
      "metadata": {
        "colab": {
          "base_uri": "https://localhost:8080/"
        },
        "id": "vozOIenjsfLv",
        "outputId": "d02f1639-38f5-4513-d164-e4dafd98723c"
      },
      "execution_count": 5,
      "outputs": [
        {
          "output_type": "stream",
          "name": "stdout",
          "text": [
            "<class 'pandas.core.frame.DataFrame'>\n",
            "RangeIndex: 7200 entries, 0 to 7199\n",
            "Data columns (total 2 columns):\n",
            " #   Column  Non-Null Count  Dtype \n",
            "---  ------  --------------  ----- \n",
            " 0   text    7200 non-null   object\n",
            " 1   label   7200 non-null   int64 \n",
            "dtypes: int64(1), object(1)\n",
            "memory usage: 112.6+ KB\n"
          ]
        }
      ]
    },
    {
      "cell_type": "markdown",
      "source": [
        "Pré-processamento"
      ],
      "metadata": {
        "id": "DJDXPzowqgc7"
      }
    },
    {
      "cell_type": "code",
      "source": [
        " import nltk\n",
        "from nltk.tokenize import word_tokenize\n",
        "from nltk.corpus import stopwords\n",
        "\n",
        "nltk.download('punkt')\n",
        "nltk.download('punkt_tab')\n",
        "nltk.download('stopwords')\n",
        "\n",
        "stop_words = set(stopwords.words('portuguese'))\n",
        "\n",
        "def preprocess_text(text):\n",
        "    words = word_tokenize(text.lower(), language='portuguese')\n",
        "    words = [word for word in words if word.isalpha() and word not in stop_words]\n",
        "    return ' '.join(words)\n",
        "\n",
        "df['processed_text'] = df['text'].apply(preprocess_text)\n"
      ],
      "metadata": {
        "colab": {
          "base_uri": "https://localhost:8080/"
        },
        "id": "u9lYS1XHqfYU",
        "outputId": "873558f1-4054-4842-cc40-0e7804ab9678"
      },
      "execution_count": 17,
      "outputs": [
        {
          "output_type": "stream",
          "name": "stderr",
          "text": [
            "[nltk_data] Downloading package punkt to /root/nltk_data...\n",
            "[nltk_data]   Package punkt is already up-to-date!\n",
            "[nltk_data] Downloading package punkt_tab to /root/nltk_data...\n",
            "[nltk_data]   Package punkt_tab is already up-to-date!\n",
            "[nltk_data] Downloading package stopwords to /root/nltk_data...\n",
            "[nltk_data]   Package stopwords is already up-to-date!\n"
          ]
        }
      ]
    },
    {
      "cell_type": "code",
      "source": [
        "df.head()"
      ],
      "metadata": {
        "colab": {
          "base_uri": "https://localhost:8080/",
          "height": 206
        },
        "id": "dOB8XWYBrqvi",
        "outputId": "e2e90085-9d36-452e-f996-38e43fb9b1b8"
      },
      "execution_count": 16,
      "outputs": [
        {
          "output_type": "execute_result",
          "data": {
            "text/plain": [
              "                                                text  label  \\\n",
              "0  Ele não tem medo de altura! \"Chuck Norris\" da ...      0   \n",
              "1  Jandira \"intitulou\" Aécio de traficante. Aécio...      0   \n",
              "2  Senador Bauer: \"Quem quiser ver uma grande obr...      0   \n",
              "3  Renan afronta STF e se recusa a deixar a presi...      0   \n",
              "4  Ministro da Fazenda promete abrir a \"caixa pre...      0   \n",
              "\n",
              "                                      processed_text  \n",
              "0  medo altura chuck norris bahia instala tela pr...  \n",
              "1  jandira intitulou aécio traficante aécio proto...  \n",
              "2  senador bauer quiser ver grande obra pt viajar...  \n",
              "3  renan afronta stf recusa deixar presidência se...  \n",
              "4  ministro fazenda promete abrir caixa preta pt ...  "
            ],
            "text/html": [
              "\n",
              "  <div id=\"df-7e5c4683-6236-4f89-80cd-7d5fd56d695a\" class=\"colab-df-container\">\n",
              "    <div>\n",
              "<style scoped>\n",
              "    .dataframe tbody tr th:only-of-type {\n",
              "        vertical-align: middle;\n",
              "    }\n",
              "\n",
              "    .dataframe tbody tr th {\n",
              "        vertical-align: top;\n",
              "    }\n",
              "\n",
              "    .dataframe thead th {\n",
              "        text-align: right;\n",
              "    }\n",
              "</style>\n",
              "<table border=\"1\" class=\"dataframe\">\n",
              "  <thead>\n",
              "    <tr style=\"text-align: right;\">\n",
              "      <th></th>\n",
              "      <th>text</th>\n",
              "      <th>label</th>\n",
              "      <th>processed_text</th>\n",
              "    </tr>\n",
              "  </thead>\n",
              "  <tbody>\n",
              "    <tr>\n",
              "      <th>0</th>\n",
              "      <td>Ele não tem medo de altura! \"Chuck Norris\" da ...</td>\n",
              "      <td>0</td>\n",
              "      <td>medo altura chuck norris bahia instala tela pr...</td>\n",
              "    </tr>\n",
              "    <tr>\n",
              "      <th>1</th>\n",
              "      <td>Jandira \"intitulou\" Aécio de traficante. Aécio...</td>\n",
              "      <td>0</td>\n",
              "      <td>jandira intitulou aécio traficante aécio proto...</td>\n",
              "    </tr>\n",
              "    <tr>\n",
              "      <th>2</th>\n",
              "      <td>Senador Bauer: \"Quem quiser ver uma grande obr...</td>\n",
              "      <td>0</td>\n",
              "      <td>senador bauer quiser ver grande obra pt viajar...</td>\n",
              "    </tr>\n",
              "    <tr>\n",
              "      <th>3</th>\n",
              "      <td>Renan afronta STF e se recusa a deixar a presi...</td>\n",
              "      <td>0</td>\n",
              "      <td>renan afronta stf recusa deixar presidência se...</td>\n",
              "    </tr>\n",
              "    <tr>\n",
              "      <th>4</th>\n",
              "      <td>Ministro da Fazenda promete abrir a \"caixa pre...</td>\n",
              "      <td>0</td>\n",
              "      <td>ministro fazenda promete abrir caixa preta pt ...</td>\n",
              "    </tr>\n",
              "  </tbody>\n",
              "</table>\n",
              "</div>\n",
              "    <div class=\"colab-df-buttons\">\n",
              "\n",
              "  <div class=\"colab-df-container\">\n",
              "    <button class=\"colab-df-convert\" onclick=\"convertToInteractive('df-7e5c4683-6236-4f89-80cd-7d5fd56d695a')\"\n",
              "            title=\"Convert this dataframe to an interactive table.\"\n",
              "            style=\"display:none;\">\n",
              "\n",
              "  <svg xmlns=\"http://www.w3.org/2000/svg\" height=\"24px\" viewBox=\"0 -960 960 960\">\n",
              "    <path d=\"M120-120v-720h720v720H120Zm60-500h600v-160H180v160Zm220 220h160v-160H400v160Zm0 220h160v-160H400v160ZM180-400h160v-160H180v160Zm440 0h160v-160H620v160ZM180-180h160v-160H180v160Zm440 0h160v-160H620v160Z\"/>\n",
              "  </svg>\n",
              "    </button>\n",
              "\n",
              "  <style>\n",
              "    .colab-df-container {\n",
              "      display:flex;\n",
              "      gap: 12px;\n",
              "    }\n",
              "\n",
              "    .colab-df-convert {\n",
              "      background-color: #E8F0FE;\n",
              "      border: none;\n",
              "      border-radius: 50%;\n",
              "      cursor: pointer;\n",
              "      display: none;\n",
              "      fill: #1967D2;\n",
              "      height: 32px;\n",
              "      padding: 0 0 0 0;\n",
              "      width: 32px;\n",
              "    }\n",
              "\n",
              "    .colab-df-convert:hover {\n",
              "      background-color: #E2EBFA;\n",
              "      box-shadow: 0px 1px 2px rgba(60, 64, 67, 0.3), 0px 1px 3px 1px rgba(60, 64, 67, 0.15);\n",
              "      fill: #174EA6;\n",
              "    }\n",
              "\n",
              "    .colab-df-buttons div {\n",
              "      margin-bottom: 4px;\n",
              "    }\n",
              "\n",
              "    [theme=dark] .colab-df-convert {\n",
              "      background-color: #3B4455;\n",
              "      fill: #D2E3FC;\n",
              "    }\n",
              "\n",
              "    [theme=dark] .colab-df-convert:hover {\n",
              "      background-color: #434B5C;\n",
              "      box-shadow: 0px 1px 3px 1px rgba(0, 0, 0, 0.15);\n",
              "      filter: drop-shadow(0px 1px 2px rgba(0, 0, 0, 0.3));\n",
              "      fill: #FFFFFF;\n",
              "    }\n",
              "  </style>\n",
              "\n",
              "    <script>\n",
              "      const buttonEl =\n",
              "        document.querySelector('#df-7e5c4683-6236-4f89-80cd-7d5fd56d695a button.colab-df-convert');\n",
              "      buttonEl.style.display =\n",
              "        google.colab.kernel.accessAllowed ? 'block' : 'none';\n",
              "\n",
              "      async function convertToInteractive(key) {\n",
              "        const element = document.querySelector('#df-7e5c4683-6236-4f89-80cd-7d5fd56d695a');\n",
              "        const dataTable =\n",
              "          await google.colab.kernel.invokeFunction('convertToInteractive',\n",
              "                                                    [key], {});\n",
              "        if (!dataTable) return;\n",
              "\n",
              "        const docLinkHtml = 'Like what you see? Visit the ' +\n",
              "          '<a target=\"_blank\" href=https://colab.research.google.com/notebooks/data_table.ipynb>data table notebook</a>'\n",
              "          + ' to learn more about interactive tables.';\n",
              "        element.innerHTML = '';\n",
              "        dataTable['output_type'] = 'display_data';\n",
              "        await google.colab.output.renderOutput(dataTable, element);\n",
              "        const docLink = document.createElement('div');\n",
              "        docLink.innerHTML = docLinkHtml;\n",
              "        element.appendChild(docLink);\n",
              "      }\n",
              "    </script>\n",
              "  </div>\n",
              "\n",
              "\n",
              "<div id=\"df-b5e7c1b8-7070-4197-9f70-40c346a2204b\">\n",
              "  <button class=\"colab-df-quickchart\" onclick=\"quickchart('df-b5e7c1b8-7070-4197-9f70-40c346a2204b')\"\n",
              "            title=\"Suggest charts\"\n",
              "            style=\"display:none;\">\n",
              "\n",
              "<svg xmlns=\"http://www.w3.org/2000/svg\" height=\"24px\"viewBox=\"0 0 24 24\"\n",
              "     width=\"24px\">\n",
              "    <g>\n",
              "        <path d=\"M19 3H5c-1.1 0-2 .9-2 2v14c0 1.1.9 2 2 2h14c1.1 0 2-.9 2-2V5c0-1.1-.9-2-2-2zM9 17H7v-7h2v7zm4 0h-2V7h2v10zm4 0h-2v-4h2v4z\"/>\n",
              "    </g>\n",
              "</svg>\n",
              "  </button>\n",
              "\n",
              "<style>\n",
              "  .colab-df-quickchart {\n",
              "      --bg-color: #E8F0FE;\n",
              "      --fill-color: #1967D2;\n",
              "      --hover-bg-color: #E2EBFA;\n",
              "      --hover-fill-color: #174EA6;\n",
              "      --disabled-fill-color: #AAA;\n",
              "      --disabled-bg-color: #DDD;\n",
              "  }\n",
              "\n",
              "  [theme=dark] .colab-df-quickchart {\n",
              "      --bg-color: #3B4455;\n",
              "      --fill-color: #D2E3FC;\n",
              "      --hover-bg-color: #434B5C;\n",
              "      --hover-fill-color: #FFFFFF;\n",
              "      --disabled-bg-color: #3B4455;\n",
              "      --disabled-fill-color: #666;\n",
              "  }\n",
              "\n",
              "  .colab-df-quickchart {\n",
              "    background-color: var(--bg-color);\n",
              "    border: none;\n",
              "    border-radius: 50%;\n",
              "    cursor: pointer;\n",
              "    display: none;\n",
              "    fill: var(--fill-color);\n",
              "    height: 32px;\n",
              "    padding: 0;\n",
              "    width: 32px;\n",
              "  }\n",
              "\n",
              "  .colab-df-quickchart:hover {\n",
              "    background-color: var(--hover-bg-color);\n",
              "    box-shadow: 0 1px 2px rgba(60, 64, 67, 0.3), 0 1px 3px 1px rgba(60, 64, 67, 0.15);\n",
              "    fill: var(--button-hover-fill-color);\n",
              "  }\n",
              "\n",
              "  .colab-df-quickchart-complete:disabled,\n",
              "  .colab-df-quickchart-complete:disabled:hover {\n",
              "    background-color: var(--disabled-bg-color);\n",
              "    fill: var(--disabled-fill-color);\n",
              "    box-shadow: none;\n",
              "  }\n",
              "\n",
              "  .colab-df-spinner {\n",
              "    border: 2px solid var(--fill-color);\n",
              "    border-color: transparent;\n",
              "    border-bottom-color: var(--fill-color);\n",
              "    animation:\n",
              "      spin 1s steps(1) infinite;\n",
              "  }\n",
              "\n",
              "  @keyframes spin {\n",
              "    0% {\n",
              "      border-color: transparent;\n",
              "      border-bottom-color: var(--fill-color);\n",
              "      border-left-color: var(--fill-color);\n",
              "    }\n",
              "    20% {\n",
              "      border-color: transparent;\n",
              "      border-left-color: var(--fill-color);\n",
              "      border-top-color: var(--fill-color);\n",
              "    }\n",
              "    30% {\n",
              "      border-color: transparent;\n",
              "      border-left-color: var(--fill-color);\n",
              "      border-top-color: var(--fill-color);\n",
              "      border-right-color: var(--fill-color);\n",
              "    }\n",
              "    40% {\n",
              "      border-color: transparent;\n",
              "      border-right-color: var(--fill-color);\n",
              "      border-top-color: var(--fill-color);\n",
              "    }\n",
              "    60% {\n",
              "      border-color: transparent;\n",
              "      border-right-color: var(--fill-color);\n",
              "    }\n",
              "    80% {\n",
              "      border-color: transparent;\n",
              "      border-right-color: var(--fill-color);\n",
              "      border-bottom-color: var(--fill-color);\n",
              "    }\n",
              "    90% {\n",
              "      border-color: transparent;\n",
              "      border-bottom-color: var(--fill-color);\n",
              "    }\n",
              "  }\n",
              "</style>\n",
              "\n",
              "  <script>\n",
              "    async function quickchart(key) {\n",
              "      const quickchartButtonEl =\n",
              "        document.querySelector('#' + key + ' button');\n",
              "      quickchartButtonEl.disabled = true;  // To prevent multiple clicks.\n",
              "      quickchartButtonEl.classList.add('colab-df-spinner');\n",
              "      try {\n",
              "        const charts = await google.colab.kernel.invokeFunction(\n",
              "            'suggestCharts', [key], {});\n",
              "      } catch (error) {\n",
              "        console.error('Error during call to suggestCharts:', error);\n",
              "      }\n",
              "      quickchartButtonEl.classList.remove('colab-df-spinner');\n",
              "      quickchartButtonEl.classList.add('colab-df-quickchart-complete');\n",
              "    }\n",
              "    (() => {\n",
              "      let quickchartButtonEl =\n",
              "        document.querySelector('#df-b5e7c1b8-7070-4197-9f70-40c346a2204b button');\n",
              "      quickchartButtonEl.style.display =\n",
              "        google.colab.kernel.accessAllowed ? 'block' : 'none';\n",
              "    })();\n",
              "  </script>\n",
              "</div>\n",
              "\n",
              "    </div>\n",
              "  </div>\n"
            ],
            "application/vnd.google.colaboratory.intrinsic+json": {
              "type": "dataframe",
              "variable_name": "df",
              "summary": "{\n  \"name\": \"df\",\n  \"rows\": 7200,\n  \"fields\": [\n    {\n      \"column\": \"text\",\n      \"properties\": {\n        \"dtype\": \"string\",\n        \"num_unique_values\": 7199,\n        \"samples\": [\n          \"Senado aprova projeto que devolve ao governo precat\\u00f3rios n\\u00e3o sacados. Precat\\u00f3rios s\\u00e3o d\\u00edvidas do poder p\\u00fablico resultantes de condena\\u00e7\\u00e3o judicial. Governo federal espera refor\\u00e7ar cofres p\\u00fablicos com R$ 8,6 bilh\\u00f5es; texto segue para san\\u00e7\\u00e3o.. O Senado aprovou quarta-feira (5), por 44 votos a 23, um projeto que determina que os precat\\u00f3rios depositados h\\u00e1 mais de dois anos e n\\u00e3o sacados pelos benefici\\u00e1rios sejam restitu\\u00eddos aos cofres p\\u00fablicos. Precat\\u00f3rios s\\u00e3o d\\u00edvidas do poder p\\u00fablico resultantes de condena\\u00e7\\u00e3o judicial definitiva. Proposto pelo Executivo, o projeto seguir\\u00e1 para san\\u00e7\\u00e3o do presidente Michel Temer. Os senadores n\\u00e3o fizeram altera\\u00e7\\u00f5es ao texto aprovado pela C\\u00e2mara, no m\\u00eas passado. Com a aprova\\u00e7\\u00e3o da proposta, o governo federal espera refor\\u00e7ar os cofres da Uni\\u00e3o com R$ 8,6 bilh\\u00f5es e reduzir o rombo fiscal deste ano. O relator da proposta, Romero Juc\\u00e1 (PMDB-RR), l\\u00edder do governo, informou que o presidente Temer se comprometeu a vetar um trecho que imp\\u00f5e o limite de 2% a honor\\u00e1rios advocat\\u00edcios em precat\\u00f3rios cujos credores da Uni\\u00e3o sejam entes p\\u00fablicos \\n\",\n          \"Descoberta acidental, realizada por cientistas, pode ser a \\\"cura do c\\u00e2ncer\\\".  Ao anexar as prote\\u00ednas da mal\\u00e1ria \\u00e0 c\\u00e9lulas cancerosas, os tumores podem ser erradicados \\u2013 efic\\u00e1cia pode chegar a 90 % dos tipos de c\\u00e2nceres.  De acordo com os cientistas, o parasita da mal\\u00e1ria se prende a um carboidrato presente nas placentas, que \\u00e9 id\\u00eantico a um carboidrato encontrado nas c\\u00e9lulas cancer\\u00edgenas. Essa semelhan\\u00e7a que poderia ser explorada na busca pela cura do c\\u00e2ncer. O parasita da mal\\u00e1ria utiliza uma prote\\u00edna para aderir \\u00e0 placenta [...] uma toxina (subst\\u00e2ncia t\\u00f3xica) foi adicionada a essa prote\\u00edna. Milagrosamente, as c\\u00e9lulas cancer\\u00edgenas absorveram essa toxina , que foi liberada no interior das c\\u00e9lulas, fazendo com que essas c\\u00e9lulas \\\"doentes\\\" morressem. \\\"Durante d\\u00e9cadas, os cientistas t\\u00eam procurado semelhan\\u00e7as entre o crescimento de uma placenta e um tumor\\\" , disse Ali Salanti, da Universidade de Copenhague. \\\"A placenta \\u00e9 um \\u00f3rg\\u00e3o que (em poucos meses) cresce de poucas c\\u00e9lulas para um \\u00f3rg\\u00e3o pesando cerca de dois quilos e fornece ao embri\\u00e3o oxig\\u00eanio e nutri\\u00e7\\u00e3o em um ambiente relativamente estranho. De certa forma, os tumores fazem o mesmo, eles crescem agressivamente em um ambiente relativamente estranho\\\". O processo j\\u00e1 foi testado em c\\u00e9lulas de camundongos com c\\u00e2ncer e a pesquisa foi publicada na revista Cancer Cell. Cientistas esperam que a descoberta possa acelerar a pesquisa em seres humanos nos pr\\u00f3ximos quatro anos. \\\"O grande desafio agora \\u00e9 descobrir se o corpo humano pode tolerar doses necess\\u00e1rias dessa toxina sem desenvolver efeitos colaterais. Estamos otimistas porque a prote\\u00edna parece apenas se unir a um carboidrato que s\\u00f3 \\u00e9 encontrado na placenta e em tumores de c\\u00e2ncer nos seres humanos\\\" , afirmou Salanti. Nos testes realizados com ratos, foram implantados tr\\u00eas tipos diferentes de c\\u00e2nceres presentes em humanos. Os tumores de linfoma n\\u00e3o-Hodgkin foram reduzidos em cerca de um quarto do tamanho original [...] o c\\u00e2ncer de pr\\u00f3stata foi eliminado inteiramente em dois dos seis camundongos testados [...]  e o c \\u00e2ncer de osso metast\\u00e1tico foi reduzido com sucesso em 80% dos casos. \\\"Ao realizar testes em camundongos, conseguimos mostrar que a combina\\u00e7\\u00e3o de prote\\u00edna e toxina mata as c\\u00e9lulas cancer\\u00edgenas\\\" , disse Mads Daugaard, pesquisador de c\\u00e2ncer da Universidade do Canad\\u00e1 da Col\\u00fambia Brit\\u00e2nica. leia tamb\\u00e9m:\\n\",\n          \"Procurador de Justi\\u00e7a do PR cita tentativa de homic\\u00eddio ao comentar ataque \\u00e0 caravana de Lula. Segundo chefe da \\u00e1rea de direitos humanos do PR, Minist\\u00e9rio P\\u00fablico deve acompanhar as investiga\\u00e7\\u00f5es.. O procurador de Justi\\u00e7a e coordenador da \\u00e1rea de Direitos Humanos do Minist\\u00e9rio P\\u00fablico do Paran\\u00e1 (MP-PR) Olympio de S\\u00e1 Sotto Maior Neto citou, na manh\\u00e3 desta quarta-feira (28), tentativa de homic\\u00eddio ao comentar os ataques \\u00e0 caravana do ex-presidente Luiz In\\u00e1cio Lula da Silva (PT). Questionado sobre a diferen\\u00e7a entre os tiros e outros epis\\u00f3dios - como o lan\\u00e7amento de ovos e pedra - e os ataques nas redes sociais, ele respondeu que h\\u00e1 tipos penais espec\\u00edficos para cada crime. Foi, quando, citou a possibilidade de \\\"tentativa de homic\\u00eddio\\\". \\u201cH\\u00e1 tipos penais espec\\u00edficos em rela\\u00e7\\u00e3o \\u00e0 incita\\u00e7\\u00e3o do crime e h\\u00e1 muito disso nas redes sociais. Por outro lado, h\\u00e1 a apologia dos crimes que j\\u00e1 foram praticados. H\\u00e1 as a\\u00e7\\u00f5es concretas, direcionadas \\u00e0 pr\\u00e1tica de les\\u00f5es corporais, quando \\n\"\n        ],\n        \"semantic_type\": \"\",\n        \"description\": \"\"\n      }\n    },\n    {\n      \"column\": \"label\",\n      \"properties\": {\n        \"dtype\": \"number\",\n        \"std\": 0,\n        \"min\": 0,\n        \"max\": 1,\n        \"num_unique_values\": 2,\n        \"samples\": [\n          1,\n          0\n        ],\n        \"semantic_type\": \"\",\n        \"description\": \"\"\n      }\n    },\n    {\n      \"column\": \"processed_text\",\n      \"properties\": {\n        \"dtype\": \"string\",\n        \"num_unique_values\": 7199,\n        \"samples\": [\n          \"senado aprova projeto devolve governo precat\\u00f3rios sacados precat\\u00f3rios d\\u00edvidas poder p\\u00fablico resultantes condena\\u00e7\\u00e3o judicial governo federal espera refor\\u00e7ar cofres p\\u00fablicos r bilh\\u00f5es texto segue san\\u00e7\\u00e3o senado aprovou votos projeto determina precat\\u00f3rios depositados dois anos sacados benefici\\u00e1rios restitu\\u00eddos cofres p\\u00fablicos precat\\u00f3rios d\\u00edvidas poder p\\u00fablico resultantes condena\\u00e7\\u00e3o judicial definitiva proposto executivo projeto seguir\\u00e1 san\\u00e7\\u00e3o presidente michel temer senadores fizeram altera\\u00e7\\u00f5es texto aprovado c\\u00e2mara m\\u00eas passado aprova\\u00e7\\u00e3o proposta governo federal espera refor\\u00e7ar cofres uni\\u00e3o r bilh\\u00f5es reduzir rombo fiscal deste ano relator proposta romero juc\\u00e1 l\\u00edder governo informou presidente temer comprometeu vetar trecho imp\\u00f5e limite honor\\u00e1rios advocat\\u00edcios precat\\u00f3rios cujos credores uni\\u00e3o entes p\\u00fablicos\",\n          \"descoberta acidental realizada cientistas pode cura c\\u00e2ncer anexar prote\\u00ednas mal\\u00e1ria c\\u00e9lulas cancerosas tumores podem erradicados efic\\u00e1cia pode chegar tipos c\\u00e2nceres acordo cientistas parasita mal\\u00e1ria prende carboidrato presente placentas id\\u00eantico carboidrato encontrado c\\u00e9lulas cancer\\u00edgenas semelhan\\u00e7a poderia explorada busca cura c\\u00e2ncer parasita mal\\u00e1ria utiliza prote\\u00edna aderir placenta toxina subst\\u00e2ncia t\\u00f3xica adicionada prote\\u00edna milagrosamente c\\u00e9lulas cancer\\u00edgenas absorveram toxina liberada interior c\\u00e9lulas fazendo c\\u00e9lulas doentes morressem durante d\\u00e9cadas cientistas t\\u00eam procurado semelhan\\u00e7as crescimento placenta tumor disse ali salanti universidade copenhague placenta \\u00f3rg\\u00e3o poucos meses cresce poucas c\\u00e9lulas \\u00f3rg\\u00e3o pesando cerca dois quilos fornece embri\\u00e3o oxig\\u00eanio nutri\\u00e7\\u00e3o ambiente relativamente estranho certa forma tumores fazem crescem agressivamente ambiente relativamente estranho processo testado c\\u00e9lulas camundongos c\\u00e2ncer pesquisa publicada revista cancer cell cientistas esperam descoberta possa acelerar pesquisa seres humanos pr\\u00f3ximos quatro anos grande desafio agora descobrir corpo humano pode tolerar doses necess\\u00e1rias dessa toxina desenvolver efeitos colaterais otimistas porque prote\\u00edna parece apenas unir carboidrato encontrado placenta tumores c\\u00e2ncer seres humanos afirmou salanti testes realizados ratos implantados tr\\u00eas tipos diferentes c\\u00e2nceres presentes humanos tumores linfoma reduzidos cerca quarto tamanho original c\\u00e2ncer pr\\u00f3stata eliminado inteiramente dois seis camundongos testados c \\u00e2ncer osso metast\\u00e1tico reduzido sucesso casos realizar testes camundongos conseguimos mostrar combina\\u00e7\\u00e3o prote\\u00edna toxina mata c\\u00e9lulas cancer\\u00edgenas disse mads daugaard pesquisador c\\u00e2ncer universidade canad\\u00e1 col\\u00fambia brit\\u00e2nica leia\"\n        ],\n        \"semantic_type\": \"\",\n        \"description\": \"\"\n      }\n    }\n  ]\n}"
            }
          },
          "metadata": {},
          "execution_count": 16
        }
      ]
    },
    {
      "cell_type": "markdown",
      "source": [
        "# **Extração de características:**"
      ],
      "metadata": {
        "id": "EuAWSa3Rdo0C"
      }
    },
    {
      "cell_type": "markdown",
      "source": [
        "# **Modelos de Machine Learning:**"
      ],
      "metadata": {
        "id": "1dv8DrjOduyy"
      }
    },
    {
      "cell_type": "code",
      "source": [
        "from sklearn.feature_extraction.text import TfidfVectorizer\n",
        "from sklearn.model_selection import train_test_split\n",
        "from sklearn.naive_bayes import MultinomialNB\n",
        "from sklearn.metrics import classification_report\n",
        "\n",
        "vectorizer = TfidfVectorizer(max_features=5000)\n",
        "X = vectorizer.fit_transform(df['processed_text']).toarray()\n",
        "y = df['label']\n",
        "\n",
        "X_train, X_test, y_train, y_test = train_test_split(X, y, test_size=0.2, random_state=42)\n",
        "\n",
        "model = MultinomialNB()\n",
        "model.fit(X_train, y_train)\n",
        "\n",
        "y_pred = model.predict(X_test)\n",
        "print(classification_report(y_test, y_pred))"
      ],
      "metadata": {
        "id": "EjKjNMUf0rES"
      },
      "execution_count": null,
      "outputs": []
    },
    {
      "cell_type": "markdown",
      "source": [
        "# **Protocolo de experimentos e validação**"
      ],
      "metadata": {
        "id": "8xiN3HG2dy3z"
      }
    },
    {
      "cell_type": "markdown",
      "source": [
        "# **Discussão dos resultados e trabalhos futuros**"
      ],
      "metadata": {
        "id": "xjNEn42Vd2zW"
      }
    },
    {
      "cell_type": "code",
      "execution_count": null,
      "metadata": {
        "id": "ge0Ok4s3bLNz"
      },
      "outputs": [],
      "source": []
    }
  ]
}